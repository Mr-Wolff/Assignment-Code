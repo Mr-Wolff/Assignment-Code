{
 "cells": [
  {
   "cell_type": "markdown",
   "metadata": {},
   "source": [
    "<center>\n",
    "    <img src=\"https://cf-courses-data.s3.us.cloud-object-storage.appdomain.cloud/IBMDeveloperSkillsNetwork-DS0105EN-SkillsNetwork/labs/Module2/images/SN_web_lightmode.png\" width=\"300\" alt=\"cognitiveclass.ai logo\"  />\n",
    "</center>\n"
   ]
  },
  {
   "cell_type": "markdown",
   "metadata": {},
   "source": [
    "#### Add your code below following the instructions given in the course\n"
   ]
  },
  {
   "cell_type": "markdown",
   "metadata": {},
   "source": [
    "<H1>My Jupyter Notebook on IBM Watson Studio<H1>"
   ]
  },
  {
   "cell_type": "markdown",
   "metadata": {},
   "source": [
    "<b>Arnav Sharma </b><br>Data Scientist"
   ]
  },
  {
   "cell_type": "markdown",
   "metadata": {},
   "source": [
    "<em>I am interested in data science because i want to become a data scientist under the industry of Consumer Behaviour ,I want to be able help businesses to identify consumer needs</em>"
   ]
  },
  {
   "cell_type": "markdown",
   "metadata": {},
   "source": [
    "<h3>The Following Code will multiply 5 and 6</h3>"
   ]
  },
  {
   "cell_type": "code",
   "execution_count": 4,
   "metadata": {},
   "outputs": [
    {
     "data": {
      "text/plain": [
       "30"
      ]
     },
     "execution_count": 4,
     "metadata": {},
     "output_type": "execute_result"
    }
   ],
   "source": [
    "5*6"
   ]
  },
  {
   "cell_type": "markdown",
   "metadata": {},
   "source": [
    "<html>\n",
    "    <header>\n",
    "    </header>\n",
    "    <body>\n",
    "        <section>\n",
    "            <h1> What i spent my money on today</h1>\n",
    "            <ol>\n",
    "                <li>Pencil</li>\n",
    "                <li>Notebook</li>\n",
    "                <li>Cold Drink</li>\n",
    "                <li>Bus Ride</li>\n",
    "                <li>Food</li>\n",
    "            </ol>\n",
    "            <hr>\n",
    "            <table>\n",
    "                <tr>\n",
    "                    <td><b>Description</b></td>\n",
    "                    <td><b>Money Spent</b></td>\n",
    "                </tr>\n",
    "                <tr>\n",
    "                    <td>Food</td>\n",
    "                    <td>70</td>\n",
    "                </tr>\n",
    "                <tr>\n",
    "                    <td>Bus Fare</td>\n",
    "                    <td>60</td>\n",
    "                </tr>\n",
    "                <tr>\n",
    "                    <td>Pencil</td>\n",
    "                    <td>20</td>\n",
    "                </tr>\n",
    "                <tr>\n",
    "                    <td>Notebook</td>\n",
    "                    <td>50</td>\n",
    "                </tr>\n",
    "            </table>\n",
    "            <br>\n",
    "            <hr>\n",
    "        </section>\n",
    "        <footer>\n",
    "            <a href=\\\"https://www.hotstar.com/in\\\">https://www.hotstar.com/in</a>"
   ]
  }
 ],
 "metadata": {
  "kernelspec": {
   "display_name": "Python",
   "language": "python",
   "name": "conda-env-python-py"
  },
  "language_info": {
   "codemirror_mode": {
    "name": "ipython",
    "version": 3
   },
   "file_extension": ".py",
   "mimetype": "text/x-python",
   "name": "python",
   "nbconvert_exporter": "python",
   "pygments_lexer": "ipython3",
   "version": "3.7.12"
  }
 },
 "nbformat": 4,
 "nbformat_minor": 4
}
